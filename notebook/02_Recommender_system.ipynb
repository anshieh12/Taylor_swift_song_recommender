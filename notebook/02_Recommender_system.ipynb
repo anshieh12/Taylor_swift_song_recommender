{
 "cells": [
  {
   "cell_type": "markdown",
   "metadata": {},
   "source": [
    "# Recommender system"
   ]
  },
  {
   "cell_type": "markdown",
   "metadata": {},
   "source": [
    "Build a content base recommender system with topic name, top words in topic and album name."
   ]
  },
  {
   "cell_type": "code",
   "execution_count": 16,
   "metadata": {},
   "outputs": [],
   "source": [
    "import pandas as pd\n",
    "import pickle\n",
    "from gensim import corpora, models, similarities, matutils\n",
    "import seaborn as sns\n",
    "import re\n",
    "from sklearn.feature_extraction.text import CountVectorizer\n",
    "from sklearn.metrics.pairwise import cosine_similarity"
   ]
  },
  {
   "cell_type": "code",
   "execution_count": 2,
   "metadata": {},
   "outputs": [],
   "source": [
    "def load(clf_file):\n",
    "    pickle_in = open(clf_file,\"rb\")\n",
    "    clf = pickle.load(pickle_in)\n",
    "    return clf\n",
    "\n",
    "data = load('song_topic.pkl')"
   ]
  },
  {
   "cell_type": "code",
   "execution_count": 3,
   "metadata": {},
   "outputs": [
    {
     "data": {
      "text/html": [
       "<div>\n",
       "<style scoped>\n",
       "    .dataframe tbody tr th:only-of-type {\n",
       "        vertical-align: middle;\n",
       "    }\n",
       "\n",
       "    .dataframe tbody tr th {\n",
       "        vertical-align: top;\n",
       "    }\n",
       "\n",
       "    .dataframe thead th {\n",
       "        text-align: right;\n",
       "    }\n",
       "</style>\n",
       "<table border=\"1\" class=\"dataframe\">\n",
       "  <thead>\n",
       "    <tr style=\"text-align: right;\">\n",
       "      <th></th>\n",
       "      <th>artist</th>\n",
       "      <th>album</th>\n",
       "      <th>track_title</th>\n",
       "      <th>lyric</th>\n",
       "      <th>tokenized</th>\n",
       "      <th>lemmatize</th>\n",
       "      <th>processed</th>\n",
       "      <th>topic</th>\n",
       "      <th>dictionary</th>\n",
       "    </tr>\n",
       "  </thead>\n",
       "  <tbody>\n",
       "    <tr>\n",
       "      <th>0</th>\n",
       "      <td>Taylor Swift</td>\n",
       "      <td>1989</td>\n",
       "      <td>All You Had to Do Was Stay</td>\n",
       "      <td>People like you always want back The love they...</td>\n",
       "      <td>[People, like, you, always, want, back, The, l...</td>\n",
       "      <td>[People, like, you, always, want, back, The, l...</td>\n",
       "      <td>People want love gave people wan na believe 'v...</td>\n",
       "      <td>feeling bad</td>\n",
       "      <td>[people, want, love, gave, people, wan, believ...</td>\n",
       "    </tr>\n",
       "    <tr>\n",
       "      <th>1</th>\n",
       "      <td>Taylor Swift</td>\n",
       "      <td>1989</td>\n",
       "      <td>Bad Blood</td>\n",
       "      <td>'Cause baby, now we've got bad blood You know ...</td>\n",
       "      <td>['Cause, baby, ,, now, we, 've, got, bad, bloo...</td>\n",
       "      <td>['Cause, baby, ,, now, we, 've, got, bad, bloo...</td>\n",
       "      <td>baby 've got bad blood know mad love look 've ...</td>\n",
       "      <td>dancing</td>\n",
       "      <td>[baby, got, bad, blood, know, mad, love, look,...</td>\n",
       "    </tr>\n",
       "    <tr>\n",
       "      <th>2</th>\n",
       "      <td>Taylor Swift</td>\n",
       "      <td>1989</td>\n",
       "      <td>Blank Space</td>\n",
       "      <td>Nice to meet you, where you been? I could show...</td>\n",
       "      <td>[Nice, to, meet, you, ,, where, you, been, ?, ...</td>\n",
       "      <td>[Nice, to, meet, you, ,, where, you, been, ?, ...</td>\n",
       "      <td>Nice meet incredible thing Magic madness sin S...</td>\n",
       "      <td>beautiful love</td>\n",
       "      <td>[nice, meet, incredible, thing, magic, madness...</td>\n",
       "    </tr>\n",
       "    <tr>\n",
       "      <th>3</th>\n",
       "      <td>Taylor Swift</td>\n",
       "      <td>1989</td>\n",
       "      <td>Clean</td>\n",
       "      <td>The drought was the very worst When the flower...</td>\n",
       "      <td>[The, drought, was, the, very, worst, When, th...</td>\n",
       "      <td>[The, drought, wa, the, very, worst, When, the...</td>\n",
       "      <td>drought wa worst flower grown died thirst wa m...</td>\n",
       "      <td>play games</td>\n",
       "      <td>[drought, worst, flower, grown, died, thirst, ...</td>\n",
       "    </tr>\n",
       "    <tr>\n",
       "      <th>4</th>\n",
       "      <td>Taylor Swift</td>\n",
       "      <td>1989</td>\n",
       "      <td>How You Get The Girl</td>\n",
       "      <td>Uh, uh, uh Uh, uh, uh Uh-uh, uh-uh Stand there...</td>\n",
       "      <td>[Uh, ,, uh, ,, uh, Uh, ,, uh, ,, uh, Uh-uh, ,,...</td>\n",
       "      <td>[Uh, ,, uh, ,, uh, Uh, ,, uh, ,, uh, Uh-uh, ,,...</td>\n",
       "      <td>Uh uh Uh uh Uh-uh uh-uh Stand ghost Shaking ra...</td>\n",
       "      <td>feeling bad</td>\n",
       "      <td>[stand, ghost, shaking, rain, rain, open, door...</td>\n",
       "    </tr>\n",
       "    <tr>\n",
       "      <th>...</th>\n",
       "      <td>...</td>\n",
       "      <td>...</td>\n",
       "      <td>...</td>\n",
       "      <td>...</td>\n",
       "      <td>...</td>\n",
       "      <td>...</td>\n",
       "      <td>...</td>\n",
       "      <td>...</td>\n",
       "      <td>...</td>\n",
       "    </tr>\n",
       "    <tr>\n",
       "      <th>89</th>\n",
       "      <td>Taylor Swift</td>\n",
       "      <td>reputation</td>\n",
       "      <td>King of My Heart</td>\n",
       "      <td>I'm perfectly fine, I live on my own I made up...</td>\n",
       "      <td>[I, 'm, perfectly, fine, ,, I, live, on, my, o...</td>\n",
       "      <td>[I, 'm, perfectly, fine, ,, I, live, on, my, o...</td>\n",
       "      <td>'m fine live mind 'm better bein met week try ...</td>\n",
       "      <td>reflecting</td>\n",
       "      <td>[fine, live, mind, better, bein, met, week, tr...</td>\n",
       "    </tr>\n",
       "    <tr>\n",
       "      <th>90</th>\n",
       "      <td>Taylor Swift</td>\n",
       "      <td>reputation</td>\n",
       "      <td>Look What You Made Me Do</td>\n",
       "      <td>I don't like your little games Don't like your...</td>\n",
       "      <td>[I, do, n't, like, your, little, games, Do, n'...</td>\n",
       "      <td>[I, do, n't, like, your, little, game, Do, n't...</td>\n",
       "      <td>like little game Do like tilted stage role pla...</td>\n",
       "      <td>trouble</td>\n",
       "      <td>[like, little, game, like, tilted, stage, role...</td>\n",
       "    </tr>\n",
       "    <tr>\n",
       "      <th>91</th>\n",
       "      <td>Taylor Swift</td>\n",
       "      <td>reputation</td>\n",
       "      <td>New Year's Day</td>\n",
       "      <td>There's glitter on the floor after the party G...</td>\n",
       "      <td>[There, 's, glitter, on, the, floor, after, th...</td>\n",
       "      <td>[There, 's, glitter, on, the, floor, after, th...</td>\n",
       "      <td>'s glitter floor party Girls carrying shoe lob...</td>\n",
       "      <td>reflecting</td>\n",
       "      <td>[glitter, floor, party, girls, carrying, shoe,...</td>\n",
       "    </tr>\n",
       "    <tr>\n",
       "      <th>92</th>\n",
       "      <td>Taylor Swift</td>\n",
       "      <td>reputation</td>\n",
       "      <td>So It Goes...</td>\n",
       "      <td>See you in the dark All eyes on you, my magici...</td>\n",
       "      <td>[See, you, in, the, dark, All, eyes, on, you, ...</td>\n",
       "      <td>[See, you, in, the, dark, All, eye, on, you, ,...</td>\n",
       "      <td>See dark All eye magician All eye u disappear ...</td>\n",
       "      <td>trouble</td>\n",
       "      <td>[see, dark, eye, magician, eye, disappear, cut...</td>\n",
       "    </tr>\n",
       "    <tr>\n",
       "      <th>93</th>\n",
       "      <td>Taylor Swift</td>\n",
       "      <td>reputation</td>\n",
       "      <td>This Is Why We Can't Have Nice Things</td>\n",
       "      <td>It was so nice throwing big parties Jump into ...</td>\n",
       "      <td>[It, was, so, nice, throwing, big, parties, Ju...</td>\n",
       "      <td>[It, wa, so, nice, throwing, big, party, Jump,...</td>\n",
       "      <td>wa nice throwing big party Jump pool balcony E...</td>\n",
       "      <td>reflecting</td>\n",
       "      <td>[nice, throwing, big, party, jump, pool, balco...</td>\n",
       "    </tr>\n",
       "  </tbody>\n",
       "</table>\n",
       "<p>94 rows × 9 columns</p>\n",
       "</div>"
      ],
      "text/plain": [
       "          artist       album                            track_title  \\\n",
       "0   Taylor Swift        1989             All You Had to Do Was Stay   \n",
       "1   Taylor Swift        1989                              Bad Blood   \n",
       "2   Taylor Swift        1989                            Blank Space   \n",
       "3   Taylor Swift        1989                                  Clean   \n",
       "4   Taylor Swift        1989                   How You Get The Girl   \n",
       "..           ...         ...                                    ...   \n",
       "89  Taylor Swift  reputation                       King of My Heart   \n",
       "90  Taylor Swift  reputation               Look What You Made Me Do   \n",
       "91  Taylor Swift  reputation                         New Year's Day   \n",
       "92  Taylor Swift  reputation                          So It Goes...   \n",
       "93  Taylor Swift  reputation  This Is Why We Can't Have Nice Things   \n",
       "\n",
       "                                                lyric  \\\n",
       "0   People like you always want back The love they...   \n",
       "1   'Cause baby, now we've got bad blood You know ...   \n",
       "2   Nice to meet you, where you been? I could show...   \n",
       "3   The drought was the very worst When the flower...   \n",
       "4   Uh, uh, uh Uh, uh, uh Uh-uh, uh-uh Stand there...   \n",
       "..                                                ...   \n",
       "89  I'm perfectly fine, I live on my own I made up...   \n",
       "90  I don't like your little games Don't like your...   \n",
       "91  There's glitter on the floor after the party G...   \n",
       "92  See you in the dark All eyes on you, my magici...   \n",
       "93  It was so nice throwing big parties Jump into ...   \n",
       "\n",
       "                                            tokenized  \\\n",
       "0   [People, like, you, always, want, back, The, l...   \n",
       "1   ['Cause, baby, ,, now, we, 've, got, bad, bloo...   \n",
       "2   [Nice, to, meet, you, ,, where, you, been, ?, ...   \n",
       "3   [The, drought, was, the, very, worst, When, th...   \n",
       "4   [Uh, ,, uh, ,, uh, Uh, ,, uh, ,, uh, Uh-uh, ,,...   \n",
       "..                                                ...   \n",
       "89  [I, 'm, perfectly, fine, ,, I, live, on, my, o...   \n",
       "90  [I, do, n't, like, your, little, games, Do, n'...   \n",
       "91  [There, 's, glitter, on, the, floor, after, th...   \n",
       "92  [See, you, in, the, dark, All, eyes, on, you, ...   \n",
       "93  [It, was, so, nice, throwing, big, parties, Ju...   \n",
       "\n",
       "                                            lemmatize  \\\n",
       "0   [People, like, you, always, want, back, The, l...   \n",
       "1   ['Cause, baby, ,, now, we, 've, got, bad, bloo...   \n",
       "2   [Nice, to, meet, you, ,, where, you, been, ?, ...   \n",
       "3   [The, drought, wa, the, very, worst, When, the...   \n",
       "4   [Uh, ,, uh, ,, uh, Uh, ,, uh, ,, uh, Uh-uh, ,,...   \n",
       "..                                                ...   \n",
       "89  [I, 'm, perfectly, fine, ,, I, live, on, my, o...   \n",
       "90  [I, do, n't, like, your, little, game, Do, n't...   \n",
       "91  [There, 's, glitter, on, the, floor, after, th...   \n",
       "92  [See, you, in, the, dark, All, eye, on, you, ,...   \n",
       "93  [It, wa, so, nice, throwing, big, party, Jump,...   \n",
       "\n",
       "                                            processed           topic  \\\n",
       "0   People want love gave people wan na believe 'v...     feeling bad   \n",
       "1   baby 've got bad blood know mad love look 've ...         dancing   \n",
       "2   Nice meet incredible thing Magic madness sin S...  beautiful love   \n",
       "3   drought wa worst flower grown died thirst wa m...      play games   \n",
       "4   Uh uh Uh uh Uh-uh uh-uh Stand ghost Shaking ra...     feeling bad   \n",
       "..                                                ...             ...   \n",
       "89  'm fine live mind 'm better bein met week try ...      reflecting   \n",
       "90  like little game Do like tilted stage role pla...         trouble   \n",
       "91  's glitter floor party Girls carrying shoe lob...      reflecting   \n",
       "92  See dark All eye magician All eye u disappear ...         trouble   \n",
       "93  wa nice throwing big party Jump pool balcony E...      reflecting   \n",
       "\n",
       "                                           dictionary  \n",
       "0   [people, want, love, gave, people, wan, believ...  \n",
       "1   [baby, got, bad, blood, know, mad, love, look,...  \n",
       "2   [nice, meet, incredible, thing, magic, madness...  \n",
       "3   [drought, worst, flower, grown, died, thirst, ...  \n",
       "4   [stand, ghost, shaking, rain, rain, open, door...  \n",
       "..                                                ...  \n",
       "89  [fine, live, mind, better, bein, met, week, tr...  \n",
       "90  [like, little, game, like, tilted, stage, role...  \n",
       "91  [glitter, floor, party, girls, carrying, shoe,...  \n",
       "92  [see, dark, eye, magician, eye, disappear, cut...  \n",
       "93  [nice, throwing, big, party, jump, pool, balco...  \n",
       "\n",
       "[94 rows x 9 columns]"
      ]
     },
     "execution_count": 3,
     "metadata": {},
     "output_type": "execute_result"
    }
   ],
   "source": [
    "data"
   ]
  },
  {
   "cell_type": "code",
   "execution_count": 4,
   "metadata": {},
   "outputs": [],
   "source": [
    "lda = models.LdaModel.load('topic.model')"
   ]
  },
  {
   "cell_type": "code",
   "execution_count": 5,
   "metadata": {},
   "outputs": [],
   "source": [
    "topic = lda.print_topics()"
   ]
  },
  {
   "cell_type": "code",
   "execution_count": 6,
   "metadata": {},
   "outputs": [],
   "source": [
    "topic_map = {0: 'play games', 1: 'reflecting', 2: 'beautiful love', 3: 'dancing', 4: 'felling bad', 5: 'trouble'}"
   ]
  },
  {
   "cell_type": "code",
   "execution_count": 10,
   "metadata": {},
   "outputs": [
    {
     "name": "stdout",
     "output_type": "stream",
     "text": [
      "['think', 'wan', 'end', 'hold', 'game', 'big', 'night', 'aah', 'gorgeous', 'day']\n",
      "['know', 'time', 'stay', 'look', 'love', 'wish', 'got', 'better', 'want', 'think']\n",
      "['said', 'know', 'time', 'delicate', 'love', 'want', 'dress', 'beautiful', 'take', 'mon']\n",
      "['shake', 'new', 'love', 'gon', 'york', 'dancing', 'welcome', 'time', 'girl', 'hand']\n",
      "['know', 'got', 'baby', 'thing', 'bad', 'feel', 'tell', 'come', 'night', 'said']\n",
      "['ooh', 'want', 'wood', 'clear', 'time', 'trouble', 'mean', 'got', 'waiting', 'call']\n"
     ]
    }
   ],
   "source": [
    "topic_word = []\n",
    "for i in range(len(topic)):\n",
    "\n",
    "    word_lst = re.findall(r'\\b[a-zA-Z]+\\b', topic[i][1])\n",
    "    print(word_lst)\n",
    "    word_str = ''\n",
    "    for w in word_lst:\n",
    "        word_str += ' '\n",
    "        word_str += w\n",
    "    topic_word.append(word_str)"
   ]
  },
  {
   "cell_type": "code",
   "execution_count": 11,
   "metadata": {},
   "outputs": [],
   "source": [
    "# make the bag of words with album names and topic names\n",
    "data['bag'] = data['album'] + ' ' + data['topic']"
   ]
  },
  {
   "cell_type": "code",
   "execution_count": 13,
   "metadata": {},
   "outputs": [],
   "source": [
    "# also add top words in each topic to the 'bag'\n",
    "for topic_ind in range(len(topic_word)):\n",
    "    ind_lst = list(data[data['topic'] == topic_map[topic_ind]]['bag'].index)\n",
    "    data.loc[ind_lst,'bag'] = data[data['topic'] == topic_map[topic_ind]]['bag'] + topic_word[topic_ind]\n",
    "    "
   ]
  },
  {
   "cell_type": "code",
   "execution_count": 17,
   "metadata": {},
   "outputs": [],
   "source": [
    "count = CountVectorizer()\n",
    "count_matrix = count.fit_transform(data['bag'])\n",
    "\n",
    "# generating consine similarity matrix\n",
    "consine_sim = cosine_similarity(count_matrix,count_matrix)"
   ]
  },
  {
   "cell_type": "code",
   "execution_count": 18,
   "metadata": {},
   "outputs": [],
   "source": [
    "indices = pd.Series(data.index)"
   ]
  },
  {
   "cell_type": "code",
   "execution_count": 20,
   "metadata": {},
   "outputs": [],
   "source": [
    "# build a recommender system that allows user to input 1 song and recommend 3 similar songs\n",
    "def recommendations(song, consine_sim):\n",
    "    recommendations = []\n",
    "    indx = indices[data['track_title'] == song].index[0]\n",
    "    scores = pd.Series(consine_sim[indx]).sort_values(ascending = False)\n",
    "    \n",
    "    #getting the indexes of the 3 most similar songs\n",
    "    ind = list(scores.iloc[:4].index)\n",
    "    print(scores.iloc[0:4])\n",
    "    for i in ind:\n",
    "        if list(data['track_title'])[i] != song:\n",
    "            recommendations.append(list(data['track_title'])[i])\n",
    "    \n",
    "    return recommendations"
   ]
  },
  {
   "cell_type": "code",
   "execution_count": 21,
   "metadata": {},
   "outputs": [
    {
     "name": "stdout",
     "output_type": "stream",
     "text": [
      "1     1.000000\n",
      "12    1.000000\n",
      "9     1.000000\n",
      "45    0.928571\n",
      "dtype: float64\n"
     ]
    },
    {
     "data": {
      "text/plain": [
       "['Welcome to New York', 'Shake It Off', 'The Moment I Knew']"
      ]
     },
     "execution_count": 21,
     "metadata": {},
     "output_type": "execute_result"
    }
   ],
   "source": [
    "recommendations('Bad Blood',consine_sim)"
   ]
  },
  {
   "cell_type": "code",
   "execution_count": null,
   "metadata": {},
   "outputs": [],
   "source": []
  }
 ],
 "metadata": {
  "kernelspec": {
   "display_name": "Python [conda env:metis] *",
   "language": "python",
   "name": "conda-env-metis-py"
  },
  "language_info": {
   "codemirror_mode": {
    "name": "ipython",
    "version": 3
   },
   "file_extension": ".py",
   "mimetype": "text/x-python",
   "name": "python",
   "nbconvert_exporter": "python",
   "pygments_lexer": "ipython3",
   "version": "3.7.6"
  }
 },
 "nbformat": 4,
 "nbformat_minor": 4
}
